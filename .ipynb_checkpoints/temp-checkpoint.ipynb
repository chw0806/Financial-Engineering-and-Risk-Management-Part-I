{
 "cells": [
  {
   "cell_type": "code",
   "execution_count": null,
   "metadata": {},
   "outputs": [],
   "source": [
    "from IPython.core.display import display, HTML\n",
    "display(HTML(\"<style>.container { width:100% !important; }</style>\"))"
   ]
  },
  {
   "cell_type": "code",
   "execution_count": null,
   "metadata": {},
   "outputs": [],
   "source": [
    "import math"
   ]
  },
  {
   "cell_type": "code",
   "execution_count": 3,
   "metadata": {},
   "outputs": [],
   "source": [
    "class Lattice:\n",
    "    def printLattice(self):\n",
    "        for t, level in enumerate(self.lattice):\n",
    "            print 'level {0}'.format(t)\n",
    "            level = [ round(elem, 3) for elem in level ]\n",
    "            print ', '.join(map(str, level)) "
   ]
  },
  {
   "cell_type": "code",
   "execution_count": 4,
   "metadata": {},
   "outputs": [],
   "source": [
    "class PriceLattice(Lattice):\n",
    "    def __init__(self, n, S0, u, d):\n",
    "        self.lattice = []\n",
    "        for i in range(n+1):\n",
    "            level = []\n",
    "            for j in range(i+1):\n",
    "                price = S0 * u**j * d**(i - j)\n",
    "                level.append(price)\n",
    "            self.lattice.append(level)"
   ]
  },
  {
   "cell_type": "code",
   "execution_count": 5,
   "metadata": {},
   "outputs": [],
   "source": [
    "class OptionLattice(Lattice):\n",
    "    def __init__(self, n, u, d, K, R, isCall, isAmerican, c, baseLattice):\n",
    "        q = (R-d-c)/(u-d)\n",
    "        multiplier = 1 if isCall else -1\n",
    "        self.lattice = []\n",
    "        clippedBase = baseLattice[:n+1]\n",
    "        rightLevel = []\n",
    "        print \"Calculating options on prices\"\n",
    "        for i, level in enumerate(reversed(clippedBase)):\n",
    "            newLevel = []\n",
    "            if i == 0:\n",
    "                for j in range(len(level)):\n",
    "                    newLevel.append(max(multiplier * (level[j]-K), 0))\n",
    "            else:\n",
    "                for j in range(len(level)):\n",
    "                    earlyExercise = max(multiplier * (level[j]-K), 0)\n",
    "                    hold = (q*rightLevel[j+1] + (1-q)*rightLevel[j])/R\n",
    "                    if earlyExercise > hold and isAmerican:\n",
    "                        print \"At time {0}, it's better to early exercise {1} than hold {2}\".format(len(clippedBase)-i-1, earlyExercise, hold)\n",
    "                    newPrice = max(hold, earlyExercise) if isAmerican else hold\n",
    "                    newLevel.append(newPrice)\n",
    "            rightLevel = newLevel\n",
    "            self.lattice.insert(0, newLevel)"
   ]
  },
  {
   "cell_type": "code",
   "execution_count": 6,
   "metadata": {},
   "outputs": [],
   "source": [
    "class FutureLattice(PriceLattice):\n",
    "    def __init__(self, n, u, d, c, R, baseLattice):\n",
    "        self.lattice = baseLattice[:n+1]\n",
    "        q = (R-d-c)/(u-d)\n",
    "        for i, level in enumerate(reversed(self.lattice)):\n",
    "            if i != 0:\n",
    "                rightLevel = self.lattice[len(self.lattice)-i]\n",
    "                for j in range(len(level)):\n",
    "                    level[j] = q*rightLevel[j+1]+(1-q)*rightLevel[j]"
   ]
  },
  {
   "cell_type": "code",
   "execution_count": 9,
   "metadata": {},
   "outputs": [
    {
     "data": {
      "text/plain": [
       "[[100.0],\n",
       " [93.45794392523365, 107.0],\n",
       " [87.34387282732116, 100.0, 114.49000000000001],\n",
       " [81.62978768908519,\n",
       "  93.45794392523365,\n",
       "  107.00000000000001,\n",
       "  122.50430000000001],\n",
       " [76.28952120475252,\n",
       "  87.34387282732116,\n",
       "  100.00000000000001,\n",
       "  114.49000000000001,\n",
       "  131.07960100000003]]"
      ]
     },
     "execution_count": 9,
     "metadata": {},
     "output_type": "execute_result"
    }
   ],
   "source": [
    "pL = PriceLattice(4, 100, 1.07, 1/1.07)\n",
    "pL.lattice"
   ]
  },
  {
   "cell_type": "code",
   "execution_count": null,
   "metadata": {},
   "outputs": [],
   "source": [
    "# Problem 1\n",
    "numPeriods = 15\n",
    "years = 0.25\n",
    "startPrice = 100\n",
    "strikePrice = 110\n",
    "continuousInterestRate = .02\n",
    "volatility = .3\n",
    "isCall = True\n",
    "isAmerican = True\n",
    "\n",
    "riskFreeReturn = math.exp(continuousInterestRate*years/numPeriods)\n",
    "dividendYield = .01*years/numPeriods\n",
    "upMoveReturn = math.exp(volatility*math.sqrt(years/numPeriods))\n",
    "downMoveReturn = 1./upMoveReturn\n",
    "\n",
    "pL = PriceLattice(numPeriods, startPrice, upMoveReturn, downMoveReturn)\n",
    "oL = OptionLattice(numPeriods, upMoveReturn, downMoveReturn, strikePrice, riskFreeReturn, isCall, isAmerican, dividendYield, pL.lattice[:])\n",
    "print round(oL.lattice[0][0], 2)"
   ]
  },
  {
   "cell_type": "code",
   "execution_count": null,
   "metadata": {},
   "outputs": [],
   "source": [
    "# Problem 2\n",
    "isCall = False\n",
    "oL = OptionLattice(numPeriods, upMoveReturn, downMoveReturn, strikePrice, riskFreeReturn, isCall, isAmerican, dividendYield, pL.lattice[:])\n",
    "print round(oL.lattice[0][0], 2)"
   ]
  },
  {
   "cell_type": "code",
   "execution_count": null,
   "metadata": {},
   "outputs": [],
   "source": [
    "# Problem 3\n",
    "# Answer: Yes"
   ]
  },
  {
   "cell_type": "code",
   "execution_count": null,
   "metadata": {},
   "outputs": [],
   "source": [
    "# Problem 4\n",
    "# Asnwer: 5"
   ]
  },
  {
   "cell_type": "code",
   "execution_count": null,
   "metadata": {},
   "outputs": [],
   "source": [
    "# Problem 5\n",
    "# Answer: No, put-call parity only applies for European options"
   ]
  },
  {
   "cell_type": "code",
   "execution_count": null,
   "metadata": {},
   "outputs": [],
   "source": [
    "# Problem 6\n",
    "numPeriods = 15\n",
    "years = 0.25\n",
    "startPrice = 100\n",
    "strikePrice = 110\n",
    "continuousInterestRate = .02\n",
    "volatility = .3\n",
    "isCall = True\n",
    "isAmerican = True\n",
    "\n",
    "riskFreeReturn = math.exp(continuousInterestRate*years/numPeriods)\n",
    "dividendYield = .01*years/numPeriods\n",
    "upMoveReturn = math.exp(volatility*math.sqrt(years/numPeriods))\n",
    "downMoveReturn = 1./upMoveReturn\n",
    "\n",
    "pL = PriceLattice(numPeriods, startPrice, upMoveReturn, downMoveReturn)\n",
    "fL = FutureLattice(numPeriods, upMoveReturn, downMoveReturn, dividendYield, riskFreeReturn, pL.lattice)\n",
    "\n",
    "numPeriods = 10\n",
    "oL = OptionLattice(numPeriods, upMoveReturn, downMoveReturn, strikePrice, riskFreeReturn, isCall, isAmerican, dividendYield, fL.lattice[:])\n",
    "\n",
    "print round(oL.lattice[0][0], 2)"
   ]
  },
  {
   "cell_type": "code",
   "execution_count": null,
   "metadata": {},
   "outputs": [],
   "source": [
    "# Problem 7\n",
    "# Answer: 7"
   ]
  },
  {
   "cell_type": "code",
   "execution_count": null,
   "metadata": {},
   "outputs": [],
   "source": [
    "# Problem 8\n",
    "numPeriodsExpiration = 15\n",
    "years = 0.25\n",
    "\n",
    "continuousInterestRate = .02\n",
    "volatility = .3\n",
    "isAmerican = False\n",
    "\n",
    "isCall = True\n",
    "startPrice = 100\n",
    "strikePrice = 100\n",
    "riskFreeReturn = math.exp(continuousInterestRate*years/numPeriodsExpiration)\n",
    "dividendYield = .01*years/numPeriodsExpiration\n",
    "upMoveReturn = math.exp(volatility*math.sqrt(years/numPeriodsExpiration))\n",
    "downMoveReturn = 1./upMoveReturn\n",
    "\n",
    "pL = PriceLattice(numPeriodsExpiration, startPrice, upMoveReturn, downMoveReturn)\n",
    "callL = OptionLattice(numPeriodsExpiration, upMoveReturn, downMoveReturn, strikePrice, riskFreeReturn, isCall, isAmerican, dividendYield, pL.lattice[:])\n",
    "\n",
    "isCall = False\n",
    "putL = OptionLattice(numPeriodsExpiration, upMoveReturn, downMoveReturn, strikePrice, riskFreeReturn, isCall, isAmerican, dividendYield, pL.lattice[:])\n",
    "\n",
    "numPeriodsChoose = 10\n",
    "\n",
    "chooserL = []\n",
    "rightLevel = []\n",
    "q = (riskFreeReturn - downMoveReturn - dividendYield) / (upMoveReturn - downMoveReturn)\n",
    "\n",
    "for i in reversed(range(numPeriodsChoose+1)):\n",
    "    newLevel = []\n",
    "    if i == numPeriodsChoose:\n",
    "        newLevel = [max(callL.lattice[i][j],putL.lattice[i][j]) for j in range(i+1)]\n",
    "    else:\n",
    "        for j in range(i+1):\n",
    "            price = (q*rightLevel[j+1] + (1-q)*rightLevel[j])/riskFreeReturn\n",
    "            newLevel.append(price)\n",
    "    rightLevel = newLevel\n",
    "    chooserL.insert(0, newLevel)\n",
    "\n",
    "print round(chooserL[0][0], 2)"
   ]
  }
 ],
 "metadata": {
  "kernelspec": {
   "display_name": "Python 2",
   "language": "python",
   "name": "python2"
  },
  "language_info": {
   "codemirror_mode": {
    "name": "ipython",
    "version": 2
   },
   "file_extension": ".py",
   "mimetype": "text/x-python",
   "name": "python",
   "nbconvert_exporter": "python",
   "pygments_lexer": "ipython2",
   "version": "2.7.17"
  }
 },
 "nbformat": 4,
 "nbformat_minor": 2
}
