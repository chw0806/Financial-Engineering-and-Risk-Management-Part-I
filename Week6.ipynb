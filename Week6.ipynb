{
 "cells": [
  {
   "cell_type": "code",
   "execution_count": 1,
   "metadata": {},
   "outputs": [],
   "source": [
    "%load_ext autoreload\n",
    "%autoreload 2\n",
    "\n",
    "import pandas as pd\n",
    "import numpy as np\n",
    "import risk_kit as rk\n",
    "from pricing_models import StockPricing, FuturesPricing, OptionsPricing, \\\n",
    "                           SwapsPricing, BondPricing, ForwardsPricing, BDTRate, \\\n",
    "                           CashPricing\n",
    "import scipy.optimize as opt"
   ]
  },
  {
   "cell_type": "markdown",
   "metadata": {},
   "source": [
    "Questions 1 and 2 should be answered by building and calibrating a 10-period Black-Derman-Toy model for the short-rate, $r_{i,j}$. You may assume that the term-structure of interest rates observed in the market place is:\n",
    "\n",
    "Period 1 2 3 4 5 6 7 8 9 10\n",
    "\n",
    "Spot Rate 3.0% 3.1% 3.2% 3.3% 3.4% 3.5% 3.55% 3.6% 3.65% 3.7%\n",
    "\n",
    "As in the video modules, these interest rates assume per-period compounding so that, for example, the market-price of a zero-coupon bond that matures in period 6 is $Z_0^6$ = $100/(1+.035)^6$ = 81.35 assuming a face value of 100."
   ]
  },
  {
   "cell_type": "code",
   "execution_count": 101,
   "metadata": {},
   "outputs": [],
   "source": [
    "n = 10\n",
    "market_spot_rates = np.array([3.0, 3.1, 3.2, 3.3, 3.4, 3.5, 3.55, 3.6, 3.65, 3.7]) / 100\n",
    "q = 0.5"
   ]
  },
  {
   "cell_type": "markdown",
   "metadata": {},
   "source": [
    "### Question 1"
   ]
  },
  {
   "cell_type": "markdown",
   "metadata": {},
   "source": [
    "Assume b = 0.05 is a constant for all ii in the BDT model as we assumed in the video lectures. Calibrate the $a_i$ parameters so that the model term-structure matches the market term-structure. Be sure that the final error returned is at most $10^{-8}$."
   ]
  },
  {
   "cell_type": "code",
   "execution_count": 148,
   "metadata": {
    "scrolled": true
   },
   "outputs": [
    {
     "name": "stdout",
     "output_type": "stream",
     "text": [
      "The squared error is less than the allowed threshold\n"
     ]
    }
   ],
   "source": [
    "b = 0.05\n",
    "iterations = 200\n",
    "error_threshold = 1e-8\n",
    "\n",
    "rates, error = BDTRate.calibrate(n, q, b, market_spot_rates, iterations)\n",
    "\n",
    "if error < error_threshold:\n",
    "    print('The squared error is less than the allowed threshold')"
   ]
  },
  {
   "cell_type": "markdown",
   "metadata": {},
   "source": [
    "Once your model has been calibrated, compute the price of a payer swaption with notional 1 million that expires at time t = 3 with an option strike of 0. You may assume the underlying swap has a fixed rate of 3.9\\% and that if the option is exercised then cash-flows take place at times t = 4, $\\ldots$ , 10. (The cash-flow at time t = i is based on the short-rate that prevailed in the previous period, i.e. the payments of the underlying swap are made in arrears.)"
   ]
  },
  {
   "cell_type": "code",
   "execution_count": 149,
   "metadata": {},
   "outputs": [
    {
     "data": {
      "text/plain": [
       "4102.0"
      ]
     },
     "execution_count": 149,
     "metadata": {},
     "output_type": "execute_result"
    }
   ],
   "source": [
    "N = 1000000\n",
    "fixed_rate = 0.039\n",
    "start_time = 4\n",
    "is_long = 1\n",
    "\n",
    "swap_pricing = SwapsPricing(n, q, fixed_rate, start_time, is_long, rates)\n",
    "\n",
    "n_options = 3\n",
    "strike = 0\n",
    "\n",
    "option_pricing = OptionsPricing(n_options, swap_pricing, rates, q, strike)\n",
    "round(option_pricing.price * N)"
   ]
  },
  {
   "cell_type": "markdown",
   "metadata": {},
   "source": [
    "### Question 2"
   ]
  },
  {
   "cell_type": "markdown",
   "metadata": {},
   "source": [
    "Repeat the previous question but now assume a value of b = 0.1."
   ]
  },
  {
   "cell_type": "code",
   "execution_count": 150,
   "metadata": {
    "scrolled": true
   },
   "outputs": [
    {
     "name": "stdout",
     "output_type": "stream",
     "text": [
      "The squared error is less than the allowed threshold\n"
     ]
    }
   ],
   "source": [
    "b = 0.1\n",
    "iterations = 200\n",
    "error_threshold = 1e-8\n",
    "\n",
    "rates, error = BDTRate.calibrate(n, q, b, market_spot_rates, iterations)\n",
    "\n",
    "if error < error_threshold:\n",
    "    print('The squared error is less than the allowed threshold')"
   ]
  },
  {
   "cell_type": "code",
   "execution_count": 151,
   "metadata": {},
   "outputs": [
    {
     "data": {
      "text/plain": [
       "8097.0"
      ]
     },
     "execution_count": 151,
     "metadata": {},
     "output_type": "execute_result"
    }
   ],
   "source": [
    "N = 1000000\n",
    "fixed_rate = 0.039\n",
    "start_time = 4\n",
    "is_long = 1\n",
    "\n",
    "swap_pricing = SwapsPricing(n, q, fixed_rate, start_time, is_long, rates)\n",
    "\n",
    "n_options = 3\n",
    "strike = 0\n",
    "\n",
    "option_pricing = OptionsPricing(n_options, swap_pricing, rates, q, strike)\n",
    "round(option_pricing.price * N)"
   ]
  },
  {
   "cell_type": "code",
   "execution_count": null,
   "metadata": {},
   "outputs": [],
   "source": []
  }
 ],
 "metadata": {
  "kernelspec": {
   "display_name": "Python 3",
   "language": "python",
   "name": "python3"
  },
  "language_info": {
   "codemirror_mode": {
    "name": "ipython",
    "version": 3
   },
   "file_extension": ".py",
   "mimetype": "text/x-python",
   "name": "python",
   "nbconvert_exporter": "python",
   "pygments_lexer": "ipython3",
   "version": "3.7.1"
  }
 },
 "nbformat": 4,
 "nbformat_minor": 2
}
